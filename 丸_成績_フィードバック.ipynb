{
 "cells": [
  {
   "cell_type": "code",
   "execution_count": 1,
   "metadata": {},
   "outputs": [],
   "source": [
    "import requests\n",
    "from bs4 import BeautifulSoup\n",
    "import re"
   ]
  },
  {
   "cell_type": "code",
   "execution_count": 2,
   "metadata": {},
   "outputs": [],
   "source": [
    "def extract_hostname(url):\n",
    "    host_name = re.search(r\"https?://(.*?)/\", url_name + \"/\").group()\n",
    "    return host_name[:-1]"
   ]
  },
  {
   "cell_type": "code",
   "execution_count": 3,
   "metadata": {},
   "outputs": [],
   "source": [
    "url_name = \"https://www.giants.jp/G/player/prof_27372.html\""
   ]
  },
  {
   "cell_type": "code",
   "execution_count": 4,
   "metadata": {},
   "outputs": [
    {
     "name": "stdout",
     "output_type": "stream",
     "text": [
      "https://www.giants.jp\n"
     ]
    }
   ],
   "source": [
    "host_name = extract_hostname(url_name)\n",
    "print(host_name)\n",
    "url = requests.get(url_name)"
   ]
  },
  {
   "cell_type": "code",
   "execution_count": 5,
   "metadata": {
    "scrolled": false
   },
   "outputs": [],
   "source": [
    "soup = BeautifulSoup(url.content, \"lxml\")\n",
    "#print(soup)  # 本文を確認する場合"
   ]
  },
  {
   "cell_type": "markdown",
   "metadata": {},
   "source": [
    "### 1) 一軍テーブルを選択する"
   ]
  },
  {
   "cell_type": "code",
   "execution_count": 6,
   "metadata": {},
   "outputs": [
    {
     "data": {
      "text/plain": [
       "<table>\n",
       "<caption> 一軍打撃成績</caption>\n",
       "<tr>\n",
       "<th>年<br/>　<br/>度</th><th>所<br/>　<br/>属</th><th>試<br/>　<br/>合</th><th>打<br/>席<br/>数</th><th>打<br/>　<br/>数</th><th>得<br/>　<br/>点</th><th>安<br/>　<br/>打</th><th>二<br/>塁<br/>打</th><th>三<br/>塁<br/>打</th><th>本<br/>塁<br/>打</th><th>塁<br/>　<br/>打</th><th>打<br/>　<br/>点</th><th>盗<br/>　<br/>塁</th><th>盗<br/>　<br/>刺</th><th>犠<br/>　<br/>打</th><th>犠<br/>　<br/>飛</th><th>四<br/>　<br/>球</th><th>死<br/>　<br/>球</th><th>三<br/>　<br/>振</th><th>併<br/>殺<br/>打</th><th>打<br/>　<br/>率</th><th>長<br/>打<br/>率</th><th>出<br/>塁<br/>率</th>\n",
       "</tr>\n",
       "<tr>\n",
       "<td>2010</td><td>広島</td><td>14</td><td>22</td><td>19</td><td>1</td><td>3</td><td>0</td><td>0</td><td>0</td><td>3</td><td>1</td><td>1</td><td>0</td><td>0</td><td>1</td><td>2</td><td>0</td><td>7</td><td>0</td><td>.158</td><td>.158</td><td>.227</td>\n",
       "</tr>\n",
       "<tr>\n",
       "<td>2011</td><td>広島</td><td>131</td><td>495</td><td>435</td><td>48</td><td>105</td><td>16</td><td>4</td><td>9</td><td>156</td><td>50</td><td>9</td><td>6</td><td>9</td><td>1</td><td>44</td><td>6</td><td>105</td><td>2</td><td>.241</td><td>.359</td><td>.319</td>\n",
       "</tr>\n",
       "<tr>\n",
       "<td>2012</td><td>広島</td><td>106</td><td>339</td><td>283</td><td>26</td><td>70</td><td>10</td><td>4</td><td>4</td><td>100</td><td>22</td><td>14</td><td>6</td><td>5</td><td>3</td><td>46</td><td>2</td><td>59</td><td>4</td><td>.247</td><td>.353</td><td>.353</td>\n",
       "</tr>\n",
       "<tr>\n",
       "<td>2013</td><td>広島</td><td>140</td><td>601</td><td>506</td><td>82</td><td>138</td><td>25</td><td>5</td><td>14</td><td>215</td><td>58</td><td>29</td><td>15</td><td>5</td><td>4</td><td>85</td><td>1</td><td>103</td><td>6</td><td>.273</td><td>.425</td><td>.376</td>\n",
       "</tr>\n",
       "<tr>\n",
       "<td>2014</td><td>広島</td><td>144</td><td>644</td><td>536</td><td>106</td><td>166</td><td>30</td><td>5</td><td>19</td><td>263</td><td>67</td><td>26</td><td>11</td><td>0</td><td>4</td><td>100</td><td>4</td><td>95</td><td>12</td><td>.310</td><td>.491</td><td>.419</td>\n",
       "</tr>\n",
       "<tr>\n",
       "<td>2015</td><td>広島</td><td>143</td><td>633</td><td>530</td><td>81</td><td>132</td><td>28</td><td>1</td><td>19</td><td>219</td><td>63</td><td>15</td><td>7</td><td>4</td><td>4</td><td>94</td><td>1</td><td>143</td><td>4</td><td>.249</td><td>.413</td><td>.361</td>\n",
       "</tr>\n",
       "<tr>\n",
       "<td>2016</td><td>広島</td><td>143</td><td>652</td><td>557</td><td>98</td><td>162</td><td>30</td><td>8</td><td>20</td><td>268</td><td>90</td><td>23</td><td>9</td><td>1</td><td>3</td><td>84</td><td>7</td><td>107</td><td>9</td><td>.291</td><td>.481</td><td>.389</td>\n",
       "</tr>\n",
       "<tr>\n",
       "<td>2017</td><td>広島</td><td>143</td><td>651</td><td>556</td><td>109</td><td>171</td><td>35</td><td>3</td><td>23</td><td>281</td><td>92</td><td>13</td><td>3</td><td>2</td><td>6</td><td>83</td><td>4</td><td>113</td><td>6</td><td>.308</td><td>.505</td><td>.398</td>\n",
       "</tr>\n",
       "<tr>\n",
       "<td>2018</td><td>広島</td><td>125</td><td>566</td><td>432</td><td>109</td><td>132</td><td>22</td><td>0</td><td>39</td><td>271</td><td>97</td><td>10</td><td>10</td><td>0</td><td>1</td><td>130</td><td>3</td><td>130</td><td>5</td><td>.306</td><td>.627</td><td>.468</td>\n",
       "</tr>\n",
       "<tr>\n",
       "<td>2019</td><td>巨人</td><td>143</td><td>631</td><td>535</td><td>82</td><td>156</td><td>26</td><td>1</td><td>27</td><td>265</td><td>89</td><td>12</td><td>5</td><td>0</td><td>7</td><td>86</td><td>3</td><td>125</td><td>15</td><td>.292</td><td>.495</td><td>.388</td>\n",
       "</tr>\n",
       "<tr>\n",
       "<td>2020</td><td>巨人</td><td>31</td><td>129</td><td>112</td><td>17</td><td>29</td><td>8</td><td>0</td><td>7</td><td>58</td><td>24</td><td>2</td><td>1</td><td>3</td><td>0</td><td>14</td><td>0</td><td>30</td><td>3</td><td>.259</td><td>.518</td><td>.341</td>\n",
       "</tr>\n",
       "<tr>\n",
       "<td class=\"total\" colspan=\"2\">計</td><td class=\"total\">1263</td><td class=\"total\">5363</td><td class=\"total\">4501</td><td class=\"total\">759</td><td class=\"total\">1264</td><td class=\"total\">230</td><td class=\"total\">31</td><td class=\"total\">181</td><td class=\"total\">2099</td><td class=\"total\">653</td><td class=\"total\">154</td><td class=\"total\">73</td><td class=\"total\">29</td><td class=\"total\">34</td><td class=\"total\">768</td><td class=\"total\">31</td><td class=\"total\">1017</td><td class=\"total\">66</td><td class=\"total\">.281</td><td class=\"total\">.466</td><td class=\"total\">.387</td>\n",
       "</tr>\n",
       "</table>"
      ]
     },
     "execution_count": 6,
     "metadata": {},
     "output_type": "execute_result"
    }
   ],
   "source": [
    "tables = soup.select(\"table\")\n",
    "\n",
    "#[print(tb) for tb in tables];  # 全ての表を表示する時\n",
    "tables[1] #このページでは、一軍テーブルはどうやら2番目のテーブルのよう。（したがって、添字を \"1\"とする）"
   ]
  },
  {
   "cell_type": "code",
   "execution_count": 7,
   "metadata": {},
   "outputs": [],
   "source": [
    "# スクレイピング の文法解説でわかりやすいページがありました。\n",
    "# https://gammasoft.jp/blog/difference-find-and-select-in-beautiful-soup-of-python/"
   ]
  },
  {
   "cell_type": "markdown",
   "metadata": {},
   "source": [
    "### 2) 表を1行ずつ表示する"
   ]
  },
  {
   "cell_type": "code",
   "execution_count": 8,
   "metadata": {},
   "outputs": [
    {
     "name": "stdout",
     "output_type": "stream",
     "text": [
      "[<tr>\n",
      "<th>年<br/>　<br/>度</th><th>所<br/>　<br/>属</th><th>試<br/>　<br/>合</th><th>打<br/>席<br/>数</th><th>打<br/>　<br/>数</th><th>得<br/>　<br/>点</th><th>安<br/>　<br/>打</th><th>二<br/>塁<br/>打</th><th>三<br/>塁<br/>打</th><th>本<br/>塁<br/>打</th><th>塁<br/>　<br/>打</th><th>打<br/>　<br/>点</th><th>盗<br/>　<br/>塁</th><th>盗<br/>　<br/>刺</th><th>犠<br/>　<br/>打</th><th>犠<br/>　<br/>飛</th><th>四<br/>　<br/>球</th><th>死<br/>　<br/>球</th><th>三<br/>　<br/>振</th><th>併<br/>殺<br/>打</th><th>打<br/>　<br/>率</th><th>長<br/>打<br/>率</th><th>出<br/>塁<br/>率</th>\n",
      "</tr>, <tr>\n",
      "<td>2010</td><td>広島</td><td>14</td><td>22</td><td>19</td><td>1</td><td>3</td><td>0</td><td>0</td><td>0</td><td>3</td><td>1</td><td>1</td><td>0</td><td>0</td><td>1</td><td>2</td><td>0</td><td>7</td><td>0</td><td>.158</td><td>.158</td><td>.227</td>\n",
      "</tr>, <tr>\n",
      "<td>2011</td><td>広島</td><td>131</td><td>495</td><td>435</td><td>48</td><td>105</td><td>16</td><td>4</td><td>9</td><td>156</td><td>50</td><td>9</td><td>6</td><td>9</td><td>1</td><td>44</td><td>6</td><td>105</td><td>2</td><td>.241</td><td>.359</td><td>.319</td>\n",
      "</tr>, <tr>\n",
      "<td>2012</td><td>広島</td><td>106</td><td>339</td><td>283</td><td>26</td><td>70</td><td>10</td><td>4</td><td>4</td><td>100</td><td>22</td><td>14</td><td>6</td><td>5</td><td>3</td><td>46</td><td>2</td><td>59</td><td>4</td><td>.247</td><td>.353</td><td>.353</td>\n",
      "</tr>, <tr>\n",
      "<td>2013</td><td>広島</td><td>140</td><td>601</td><td>506</td><td>82</td><td>138</td><td>25</td><td>5</td><td>14</td><td>215</td><td>58</td><td>29</td><td>15</td><td>5</td><td>4</td><td>85</td><td>1</td><td>103</td><td>6</td><td>.273</td><td>.425</td><td>.376</td>\n",
      "</tr>, <tr>\n",
      "<td>2014</td><td>広島</td><td>144</td><td>644</td><td>536</td><td>106</td><td>166</td><td>30</td><td>5</td><td>19</td><td>263</td><td>67</td><td>26</td><td>11</td><td>0</td><td>4</td><td>100</td><td>4</td><td>95</td><td>12</td><td>.310</td><td>.491</td><td>.419</td>\n",
      "</tr>, <tr>\n",
      "<td>2015</td><td>広島</td><td>143</td><td>633</td><td>530</td><td>81</td><td>132</td><td>28</td><td>1</td><td>19</td><td>219</td><td>63</td><td>15</td><td>7</td><td>4</td><td>4</td><td>94</td><td>1</td><td>143</td><td>4</td><td>.249</td><td>.413</td><td>.361</td>\n",
      "</tr>, <tr>\n",
      "<td>2016</td><td>広島</td><td>143</td><td>652</td><td>557</td><td>98</td><td>162</td><td>30</td><td>8</td><td>20</td><td>268</td><td>90</td><td>23</td><td>9</td><td>1</td><td>3</td><td>84</td><td>7</td><td>107</td><td>9</td><td>.291</td><td>.481</td><td>.389</td>\n",
      "</tr>, <tr>\n",
      "<td>2017</td><td>広島</td><td>143</td><td>651</td><td>556</td><td>109</td><td>171</td><td>35</td><td>3</td><td>23</td><td>281</td><td>92</td><td>13</td><td>3</td><td>2</td><td>6</td><td>83</td><td>4</td><td>113</td><td>6</td><td>.308</td><td>.505</td><td>.398</td>\n",
      "</tr>, <tr>\n",
      "<td>2018</td><td>広島</td><td>125</td><td>566</td><td>432</td><td>109</td><td>132</td><td>22</td><td>0</td><td>39</td><td>271</td><td>97</td><td>10</td><td>10</td><td>0</td><td>1</td><td>130</td><td>3</td><td>130</td><td>5</td><td>.306</td><td>.627</td><td>.468</td>\n",
      "</tr>, <tr>\n",
      "<td>2019</td><td>巨人</td><td>143</td><td>631</td><td>535</td><td>82</td><td>156</td><td>26</td><td>1</td><td>27</td><td>265</td><td>89</td><td>12</td><td>5</td><td>0</td><td>7</td><td>86</td><td>3</td><td>125</td><td>15</td><td>.292</td><td>.495</td><td>.388</td>\n",
      "</tr>, <tr>\n",
      "<td>2020</td><td>巨人</td><td>31</td><td>129</td><td>112</td><td>17</td><td>29</td><td>8</td><td>0</td><td>7</td><td>58</td><td>24</td><td>2</td><td>1</td><td>3</td><td>0</td><td>14</td><td>0</td><td>30</td><td>3</td><td>.259</td><td>.518</td><td>.341</td>\n",
      "</tr>, <tr>\n",
      "<td class=\"total\" colspan=\"2\">計</td><td class=\"total\">1263</td><td class=\"total\">5363</td><td class=\"total\">4501</td><td class=\"total\">759</td><td class=\"total\">1264</td><td class=\"total\">230</td><td class=\"total\">31</td><td class=\"total\">181</td><td class=\"total\">2099</td><td class=\"total\">653</td><td class=\"total\">154</td><td class=\"total\">73</td><td class=\"total\">29</td><td class=\"total\">34</td><td class=\"total\">768</td><td class=\"total\">31</td><td class=\"total\">1017</td><td class=\"total\">66</td><td class=\"total\">.281</td><td class=\"total\">.466</td><td class=\"total\">.387</td>\n",
      "</tr>]\n"
     ]
    }
   ],
   "source": [
    "first_table = tables[1]\n",
    "\n",
    "# 以下のどちらでも可\n",
    "#tr_list = first_table.find_all(\"tr\")\n",
    "tr_list = first_table.select(\"tr\")\n",
    "\n",
    "print(tr_list)"
   ]
  },
  {
   "cell_type": "markdown",
   "metadata": {},
   "source": [
    "## HTMLの表の文法を確認してみてください\n",
    "- https://developer.mozilla.org/ja/docs/Web/HTML/Element/table\n",
    "- `<tr>,<thead>,<th>`などがどのように使われているか考えてみると、スクレイピングが楽になるかもしれません。"
   ]
  },
  {
   "cell_type": "markdown",
   "metadata": {},
   "source": [
    "### 3) 表の1行目を表示する"
   ]
  },
  {
   "cell_type": "code",
   "execution_count": 9,
   "metadata": {},
   "outputs": [
    {
     "name": "stdout",
     "output_type": "stream",
     "text": [
      "<tr>\n",
      "<th>年<br/>　<br/>度</th><th>所<br/>　<br/>属</th><th>試<br/>　<br/>合</th><th>打<br/>席<br/>数</th><th>打<br/>　<br/>数</th><th>得<br/>　<br/>点</th><th>安<br/>　<br/>打</th><th>二<br/>塁<br/>打</th><th>三<br/>塁<br/>打</th><th>本<br/>塁<br/>打</th><th>塁<br/>　<br/>打</th><th>打<br/>　<br/>点</th><th>盗<br/>　<br/>塁</th><th>盗<br/>　<br/>刺</th><th>犠<br/>　<br/>打</th><th>犠<br/>　<br/>飛</th><th>四<br/>　<br/>球</th><th>死<br/>　<br/>球</th><th>三<br/>　<br/>振</th><th>併<br/>殺<br/>打</th><th>打<br/>　<br/>率</th><th>長<br/>打<br/>率</th><th>出<br/>塁<br/>率</th>\n",
      "</tr>\n"
     ]
    }
   ],
   "source": [
    "# このページでは、表の1行目が列の名前になっているようだ\n",
    "# 今回は、tr_list[0]とすれば、テーブル各列の名前を取得できる\n",
    "table_labels = tr_list[0]\n",
    "print(table_labels)"
   ]
  },
  {
   "cell_type": "code",
   "execution_count": 10,
   "metadata": {},
   "outputs": [
    {
     "name": "stdout",
     "output_type": "stream",
     "text": [
      "[<th>年<br/>　<br/>度</th>, <th>所<br/>　<br/>属</th>, <th>試<br/>　<br/>合</th>, <th>打<br/>席<br/>数</th>, <th>打<br/>　<br/>数</th>, <th>得<br/>　<br/>点</th>, <th>安<br/>　<br/>打</th>, <th>二<br/>塁<br/>打</th>, <th>三<br/>塁<br/>打</th>, <th>本<br/>塁<br/>打</th>, <th>塁<br/>　<br/>打</th>, <th>打<br/>　<br/>点</th>, <th>盗<br/>　<br/>塁</th>, <th>盗<br/>　<br/>刺</th>, <th>犠<br/>　<br/>打</th>, <th>犠<br/>　<br/>飛</th>, <th>四<br/>　<br/>球</th>, <th>死<br/>　<br/>球</th>, <th>三<br/>　<br/>振</th>, <th>併<br/>殺<br/>打</th>, <th>打<br/>　<br/>率</th>, <th>長<br/>打<br/>率</th>, <th>出<br/>塁<br/>率</th>]\n"
     ]
    }
   ],
   "source": [
    "label_list = table_labels.select(\"th\")\n",
    "print(label_list);\n",
    "#print(label_list[0]); #個別に確認したいときはこちら"
   ]
  },
  {
   "cell_type": "code",
   "execution_count": 11,
   "metadata": {},
   "outputs": [
    {
     "name": "stdout",
     "output_type": "stream",
     "text": [
      "年　度\n",
      "所　属\n",
      "試　合\n",
      "打席数\n",
      "打　数\n",
      "得　点\n",
      "安　打\n",
      "二塁打\n",
      "三塁打\n",
      "本塁打\n",
      "塁　打\n",
      "打　点\n",
      "盗　塁\n",
      "盗　刺\n",
      "犠　打\n",
      "犠　飛\n",
      "四　球\n",
      "死　球\n",
      "三　振\n",
      "併殺打\n",
      "打　率\n",
      "長打率\n",
      "出塁率\n"
     ]
    }
   ],
   "source": [
    "# テーブルの各列のラベルを取得できた。\n",
    "[print(label.text) for label in label_list];"
   ]
  },
  {
   "cell_type": "markdown",
   "metadata": {},
   "source": [
    "### 4) 表の2行目以降を表示する\n",
    "- 以下略"
   ]
  }
 ],
 "metadata": {
  "kernelspec": {
   "display_name": "Python 3",
   "language": "python",
   "name": "python3"
  },
  "language_info": {
   "codemirror_mode": {
    "name": "ipython",
    "version": 3
   },
   "file_extension": ".py",
   "mimetype": "text/x-python",
   "name": "python",
   "nbconvert_exporter": "python",
   "pygments_lexer": "ipython3",
   "version": "3.7.6"
  }
 },
 "nbformat": 4,
 "nbformat_minor": 4
}
