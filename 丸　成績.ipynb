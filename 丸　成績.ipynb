{
 "cells": [
  {
   "cell_type": "code",
   "execution_count": 1,
   "metadata": {},
   "outputs": [],
   "source": [
    "import requests\n",
    "from bs4 import BeautifulSoup\n",
    "import re"
   ]
  },
  {
   "cell_type": "code",
   "execution_count": 2,
   "metadata": {},
   "outputs": [],
   "source": [
    "def extract_hostname(url):\n",
    "    host_name = re.search(r\"https?://(.*?)/\", url_name + \"/\").group()\n",
    "    return host_name[:-1]"
   ]
  },
  {
   "cell_type": "code",
   "execution_count": 20,
   "metadata": {},
   "outputs": [],
   "source": [
    "url_name = \"https://www.giants.jp/G/player/prof_27372.html\""
   ]
  },
  {
   "cell_type": "code",
   "execution_count": 21,
   "metadata": {},
   "outputs": [
    {
     "name": "stdout",
     "output_type": "stream",
     "text": [
      "https://www.giants.jp\n"
     ]
    }
   ],
   "source": [
    "host_name = extract_hostname(url_name)\n",
    "print(host_name)\n",
    "url = requests.get(url_name)"
   ]
  },
  {
   "cell_type": "code",
   "execution_count": 51,
   "metadata": {},
   "outputs": [],
   "source": [
    "soup = BeautifulSoup(url.content, \"lxml\")\n"
   ]
  },
  {
   "cell_type": "code",
   "execution_count": 55,
   "metadata": {},
   "outputs": [
    {
     "name": "stdout",
     "output_type": "stream",
     "text": [
      "\n",
      ", <tr>\n",
      "<th>経歴</th><td>千葉経大付高—広島（2008〜2018年）—巨人（2019年〜）</td>\n",
      "</tr>, \n",
      ", <tr>\n",
      "<th>ドラフト</th><td>2007年高校生ドラフト3位</td>\n",
      "</tr>, \n",
      ", <tr>\n",
      "<th>初出場</th><td>2010年9月12日　対巨人23回戦　東京ドーム</td>\n",
      "</tr>, \n",
      ", <tr>\n",
      "<th>初安打</th><td>2010年9月21日　対ヤクルト19回戦　押本健彦　マツダスタジアム</td>\n",
      "</tr>, \n",
      ", <tr>\n",
      "<th>初打点</th><td>2010年9月21日　対ヤクルト19回戦　渡辺恒樹　マツダスタジアム</td>\n",
      "</tr>, \n",
      ", <tr>\n",
      "<th>初本塁打</th><td>2011年4月19日　対横浜1回戦　大家友和　横浜</td>\n",
      "</tr>, \n",
      ", <tr>\n",
      "<th>初盗塁</th><td>2010年9月29日　対横浜24回戦　マツダスタジアム</td>\n",
      "</tr>, \n",
      ", <tr>\n",
      "<th>タイトル</th><td>最多安打打者賞（2017年）<br/>最多盗塁者賞（2013年）<br/>最高出塁率者賞（2018年）</td>\n",
      "</tr>, \n",
      ", <tr>\n",
      "<th>表彰</th><td>最優秀選手賞（2017〜2018年）<br/>ベストナイン賞（2014、2016〜2019年）<br/>ゴールデングラブ賞（2013〜2019年）</td>\n",
      "</tr>, \n",
      ", <tr>\n",
      "<th>背番号</th><td>8（2019年〜）</td>\n",
      "</tr>, \n",
      ", \n",
      "\n",
      ", <caption> 一軍打撃成績</caption>, \n",
      ", <tr>\n",
      "<th>年<br/>　<br/>度</th><th>所<br/>　<br/>属</th><th>試<br/>　<br/>合</th><th>打<br/>席<br/>数</th><th>打<br/>　<br/>数</th><th>得<br/>　<br/>点</th><th>安<br/>　<br/>打</th><th>二<br/>塁<br/>打</th><th>三<br/>塁<br/>打</th><th>本<br/>塁<br/>打</th><th>塁<br/>　<br/>打</th><th>打<br/>　<br/>点</th><th>盗<br/>　<br/>塁</th><th>盗<br/>　<br/>刺</th><th>犠<br/>　<br/>打</th><th>犠<br/>　<br/>飛</th><th>四<br/>　<br/>球</th><th>死<br/>　<br/>球</th><th>三<br/>　<br/>振</th><th>併<br/>殺<br/>打</th><th>打<br/>　<br/>率</th><th>長<br/>打<br/>率</th><th>出<br/>塁<br/>率</th>\n",
      "</tr>, \n",
      ", <tr>\n",
      "<td>2010</td><td>広島</td><td>14</td><td>22</td><td>19</td><td>1</td><td>3</td><td>0</td><td>0</td><td>0</td><td>3</td><td>1</td><td>1</td><td>0</td><td>0</td><td>1</td><td>2</td><td>0</td><td>7</td><td>0</td><td>.158</td><td>.158</td><td>.227</td>\n",
      "</tr>, \n",
      ", <tr>\n",
      "<td>2011</td><td>広島</td><td>131</td><td>495</td><td>435</td><td>48</td><td>105</td><td>16</td><td>4</td><td>9</td><td>156</td><td>50</td><td>9</td><td>6</td><td>9</td><td>1</td><td>44</td><td>6</td><td>105</td><td>2</td><td>.241</td><td>.359</td><td>.319</td>\n",
      "</tr>, \n",
      ", <tr>\n",
      "<td>2012</td><td>広島</td><td>106</td><td>339</td><td>283</td><td>26</td><td>70</td><td>10</td><td>4</td><td>4</td><td>100</td><td>22</td><td>14</td><td>6</td><td>5</td><td>3</td><td>46</td><td>2</td><td>59</td><td>4</td><td>.247</td><td>.353</td><td>.353</td>\n",
      "</tr>, \n",
      ", <tr>\n",
      "<td>2013</td><td>広島</td><td>140</td><td>601</td><td>506</td><td>82</td><td>138</td><td>25</td><td>5</td><td>14</td><td>215</td><td>58</td><td>29</td><td>15</td><td>5</td><td>4</td><td>85</td><td>1</td><td>103</td><td>6</td><td>.273</td><td>.425</td><td>.376</td>\n",
      "</tr>, \n",
      ", <tr>\n",
      "<td>2014</td><td>広島</td><td>144</td><td>644</td><td>536</td><td>106</td><td>166</td><td>30</td><td>5</td><td>19</td><td>263</td><td>67</td><td>26</td><td>11</td><td>0</td><td>4</td><td>100</td><td>4</td><td>95</td><td>12</td><td>.310</td><td>.491</td><td>.419</td>\n",
      "</tr>, \n",
      ", <tr>\n",
      "<td>2015</td><td>広島</td><td>143</td><td>633</td><td>530</td><td>81</td><td>132</td><td>28</td><td>1</td><td>19</td><td>219</td><td>63</td><td>15</td><td>7</td><td>4</td><td>4</td><td>94</td><td>1</td><td>143</td><td>4</td><td>.249</td><td>.413</td><td>.361</td>\n",
      "</tr>, \n",
      ", <tr>\n",
      "<td>2016</td><td>広島</td><td>143</td><td>652</td><td>557</td><td>98</td><td>162</td><td>30</td><td>8</td><td>20</td><td>268</td><td>90</td><td>23</td><td>9</td><td>1</td><td>3</td><td>84</td><td>7</td><td>107</td><td>9</td><td>.291</td><td>.481</td><td>.389</td>\n",
      "</tr>, \n",
      ", <tr>\n",
      "<td>2017</td><td>広島</td><td>143</td><td>651</td><td>556</td><td>109</td><td>171</td><td>35</td><td>3</td><td>23</td><td>281</td><td>92</td><td>13</td><td>3</td><td>2</td><td>6</td><td>83</td><td>4</td><td>113</td><td>6</td><td>.308</td><td>.505</td><td>.398</td>\n",
      "</tr>, \n",
      ", <tr>\n",
      "<td>2018</td><td>広島</td><td>125</td><td>566</td><td>432</td><td>109</td><td>132</td><td>22</td><td>0</td><td>39</td><td>271</td><td>97</td><td>10</td><td>10</td><td>0</td><td>1</td><td>130</td><td>3</td><td>130</td><td>5</td><td>.306</td><td>.627</td><td>.468</td>\n",
      "</tr>, \n",
      ", <tr>\n",
      "<td>2019</td><td>巨人</td><td>143</td><td>631</td><td>535</td><td>82</td><td>156</td><td>26</td><td>1</td><td>27</td><td>265</td><td>89</td><td>12</td><td>5</td><td>0</td><td>7</td><td>86</td><td>3</td><td>125</td><td>15</td><td>.292</td><td>.495</td><td>.388</td>\n",
      "</tr>, \n",
      ", <tr>\n",
      "<td>2020</td><td>巨人</td><td>30</td><td>125</td><td>108</td><td>17</td><td>28</td><td>8</td><td>0</td><td>7</td><td>57</td><td>23</td><td>2</td><td>1</td><td>3</td><td>0</td><td>14</td><td>0</td><td>28</td><td>3</td><td>.259</td><td>.528</td><td>.344</td>\n",
      "</tr>, \n",
      ", <tr>\n",
      "<td class=\"total\" colspan=\"2\">計</td><td class=\"total\">1262</td><td class=\"total\">5359</td><td class=\"total\">4497</td><td class=\"total\">759</td><td class=\"total\">1263</td><td class=\"total\">230</td><td class=\"total\">31</td><td class=\"total\">181</td><td class=\"total\">2098</td><td class=\"total\">652</td><td class=\"total\">154</td><td class=\"total\">73</td><td class=\"total\">29</td><td class=\"total\">34</td><td class=\"total\">768</td><td class=\"total\">31</td><td class=\"total\">1015</td><td class=\"total\">66</td><td class=\"total\">.281</td><td class=\"total\">.467</td><td class=\"total\">.387</td>\n",
      "</tr>, \n",
      ", \n",
      "\n",
      ", <caption> 二軍打撃成績</caption>, \n",
      ", <tr>\n",
      "<th>年<br/>　<br/>度</th><th>所<br/>　<br/>属</th><th>試<br/>　<br/>合</th><th>打<br/>席<br/>数</th><th>打<br/>　<br/>数</th><th>得<br/>　<br/>点</th><th>安<br/>　<br/>打</th><th>二<br/>塁<br/>打</th><th>三<br/>塁<br/>打</th><th>本<br/>塁<br/>打</th><th>塁<br/>　<br/>打</th><th>打<br/>　<br/>点</th><th>盗<br/>　<br/>塁</th><th>盗<br/>　<br/>刺</th><th>犠<br/>　<br/>打</th><th>犠<br/>　<br/>飛</th><th>四<br/>　<br/>球</th><th>死<br/>　<br/>球</th><th>三<br/>　<br/>振</th><th>併<br/>殺<br/>打</th><th>打<br/>　<br/>率</th><th>長<br/>打<br/>率</th><th>出<br/>塁<br/>率</th>\n",
      "</tr>, \n",
      ", <tr>\n",
      "<td>2008</td><td>広島・ウ</td><td>46</td><td>138</td><td>118</td><td>17</td><td>34</td><td>5</td><td>5</td><td>1</td><td>52</td><td>18</td><td>2</td><td>1</td><td>2</td><td>3</td><td>13</td><td>2</td><td>26</td><td>1</td><td>.288</td><td>.441</td><td>.360</td>\n",
      "</tr>, \n",
      ", <tr>\n",
      "<td>2009</td><td>広島・ウ</td><td>69</td><td>211</td><td>185</td><td>19</td><td>41</td><td>8</td><td>1</td><td>1</td><td>54</td><td>16</td><td>6</td><td>3</td><td>4</td><td>1</td><td>17</td><td>4</td><td>43</td><td>1</td><td>.222</td><td>.292</td><td>.300</td>\n",
      "</tr>, \n",
      ", <tr>\n",
      "<td>2010</td><td>広島・ウ</td><td>92</td><td>355</td><td>311</td><td>46</td><td>86</td><td>13</td><td>3</td><td>4</td><td>117</td><td>30</td><td>21</td><td>10</td><td>5</td><td>2</td><td>36</td><td>1</td><td>66</td><td>1</td><td>.277</td><td>.376</td><td>.351</td>\n",
      "</tr>, \n",
      ", <tr>\n",
      "<td>2011</td><td>広島・ウ</td><td>6</td><td>27</td><td>24</td><td>3</td><td>5</td><td>0</td><td>0</td><td>0</td><td>5</td><td>3</td><td>2</td><td>1</td><td>1</td><td>0</td><td>2</td><td>0</td><td>6</td><td>1</td><td>.208</td><td>.208</td><td>.269</td>\n",
      "</tr>, \n",
      ", <tr>\n",
      "<td>2012</td><td>広島・ウ</td><td>14</td><td>58</td><td>51</td><td>9</td><td>19</td><td>1</td><td>1</td><td>3</td><td>31</td><td>12</td><td>3</td><td>2</td><td>0</td><td>0</td><td>7</td><td>0</td><td>14</td><td>0</td><td>.373</td><td>.608</td><td>.448</td>\n",
      "</tr>, \n",
      ", <tr>\n",
      "<td class=\"total\" colspan=\"2\">計</td><td class=\"total\">227</td><td class=\"total\">789</td><td class=\"total\">689</td><td class=\"total\">94</td><td class=\"total\">185</td><td class=\"total\">27</td><td class=\"total\">10</td><td class=\"total\">9</td><td class=\"total\">259</td><td class=\"total\">79</td><td class=\"total\">34</td><td class=\"total\">17</td><td class=\"total\">12</td><td class=\"total\">6</td><td class=\"total\">75</td><td class=\"total\">7</td><td class=\"total\">155</td><td class=\"total\">4</td><td class=\"total\">.269</td><td class=\"total\">.376</td><td class=\"total\">.344</td>\n",
      "</tr>, \n",
      ", \n"
     ]
    }
   ],
   "source": [
    "elems = soup.select(\"table\")\n",
    "for elem in elems: \n",
    "    for ch in elem.children:\n",
    "        try:\n",
    "            print(ch, end=\", \")\n",
    "        except AttributeError:\n",
    "            print(\"Attribute Error\", ch)\n",
    "    print()\n"
   ]
  },
  {
   "cell_type": "code",
   "execution_count": null,
   "metadata": {},
   "outputs": [],
   "source": []
  },
  {
   "cell_type": "code",
   "execution_count": null,
   "metadata": {},
   "outputs": [],
   "source": []
  }
 ],
 "metadata": {
  "kernelspec": {
   "display_name": "Python 3",
   "language": "python",
   "name": "python3"
  },
  "language_info": {
   "codemirror_mode": {
    "name": "ipython",
    "version": 3
   },
   "file_extension": ".py",
   "mimetype": "text/x-python",
   "name": "python",
   "nbconvert_exporter": "python",
   "pygments_lexer": "ipython3",
   "version": "3.7.6"
  }
 },
 "nbformat": 4,
 "nbformat_minor": 4
}
